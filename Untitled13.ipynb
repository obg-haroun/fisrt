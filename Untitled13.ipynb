{
 "cells": [
  {
   "cell_type": "code",
   "execution_count": 1,
   "id": "8d01b0f0",
   "metadata": {},
   "outputs": [],
   "source": [
    "def calculatrice(n1,n2): \n",
    "    up = input(\"entrer l'opérateur\")\n",
    "    if up == \"+\" :\n",
    "        return n1+n2\n",
    "    elif up == \"-\" :\n",
    "        return n1-n2\n",
    "    elif up == \"*\" :\n",
    "        return n1*n2\n",
    "    elif up == \"/\" :\n",
    "        return n1/n2"
   ]
  },
  {
   "cell_type": "code",
   "execution_count": 2,
   "id": "21c604cf",
   "metadata": {},
   "outputs": [
    {
     "name": "stdout",
     "output_type": "stream",
     "text": [
      "donne moi un nombre10\n",
      "donne moi un nombre5\n",
      "entrer l'opérateur*\n"
     ]
    },
    {
     "data": {
      "text/plain": [
       "50"
      ]
     },
     "execution_count": 2,
     "metadata": {},
     "output_type": "execute_result"
    }
   ],
   "source": [
    "n1 = int(input ('donne moi un nombre'))\n",
    "n2 = int(input ('donne moi un nombre'))\n",
    "calculatrice (n1, n2)"
   ]
  },
  {
   "cell_type": "code",
   "execution_count": null,
   "id": "6e991264",
   "metadata": {},
   "outputs": [],
   "source": []
  }
 ],
 "metadata": {
  "kernelspec": {
   "display_name": "Python 3 (ipykernel)",
   "language": "python",
   "name": "python3"
  },
  "language_info": {
   "codemirror_mode": {
    "name": "ipython",
    "version": 3
   },
   "file_extension": ".py",
   "mimetype": "text/x-python",
   "name": "python",
   "nbconvert_exporter": "python",
   "pygments_lexer": "ipython3",
   "version": "3.11.5"
  }
 },
 "nbformat": 4,
 "nbformat_minor": 5
}
