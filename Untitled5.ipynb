{
 "cells": [
  {
   "cell_type": "code",
   "execution_count": 22,
   "id": "65b4e1b0",
   "metadata": {},
   "outputs": [
    {
     "name": "stdout",
     "output_type": "stream",
     "text": [
      "Donnez moi un nombre9\n"
     ]
    }
   ],
   "source": [
    "n = int(input('Donnez moi un nombre'))"
   ]
  },
  {
   "cell_type": "code",
   "execution_count": 23,
   "id": "8d533077",
   "metadata": {},
   "outputs": [
    {
     "name": "stdout",
     "output_type": "stream",
     "text": [
      "9\n"
     ]
    }
   ],
   "source": [
    "print(n)"
   ]
  },
  {
   "cell_type": "code",
   "execution_count": 24,
   "id": "8acc0c86",
   "metadata": {},
   "outputs": [
    {
     "data": {
      "text/plain": [
       "14"
      ]
     },
     "execution_count": 24,
     "metadata": {},
     "output_type": "execute_result"
    }
   ],
   "source": [
    "n+5"
   ]
  },
  {
   "cell_type": "code",
   "execution_count": 4,
   "id": "2cc36c5d",
   "metadata": {},
   "outputs": [],
   "source": [
    "import random"
   ]
  },
  {
   "cell_type": "code",
   "execution_count": 5,
   "id": "ef07497f",
   "metadata": {},
   "outputs": [
    {
     "data": {
      "text/plain": [
       "94"
      ]
     },
     "execution_count": 5,
     "metadata": {},
     "output_type": "execute_result"
    }
   ],
   "source": [
    "a = random.randint(1,100)\n",
    "a"
   ]
  },
  {
   "cell_type": "code",
   "execution_count": 13,
   "id": "f4e1c195",
   "metadata": {},
   "outputs": [
    {
     "name": "stdout",
     "output_type": "stream",
     "text": [
      "Donnez moi un nombre90\n",
      "Encore plus\n",
      "Donnez moi un nombre199\n",
      "Encore moins\n",
      "Donnez moi un nombre9999\n",
      "Encore moins\n",
      "Donnez moi un nombre44\n",
      "Encore plus\n",
      "Donnez moi un nombre5332\n",
      "Encore moins\n",
      "Donnez moi un nombre70\n",
      "Encore plus\n",
      "Donnez moi un nombre1\n",
      "Encore plus\n",
      "Donnez moi un nombre94\n",
      "Bravo vous avez gagné\n"
     ]
    }
   ],
   "source": [
    "while True:\n",
    "    n = int(input('Donnez moi un nombre'))\n",
    "    if n < a:\n",
    "        print('Encore plus')\n",
    "    elif n > a:\n",
    "        print('Encore moins')\n",
    "    else:\n",
    "        print('Bravo vous avez gagné')\n",
    "        break"
   ]
  },
  {
   "cell_type": "code",
   "execution_count": 24,
   "id": "4dc77ccd",
   "metadata": {},
   "outputs": [
    {
     "name": "stdout",
     "output_type": "stream",
     "text": [
      "salam maha\n",
      "salam haroun\n",
      "salam reda\n",
      "salam amine\n",
      "salam adam\n"
     ]
    }
   ],
   "source": [
    "r=[\"maha\",\n",
    "   \"haroun\",\n",
    "   \"reda\",\n",
    "   \"amine\",\n",
    "   \"adam\"]\n",
    "for haroun in r:\n",
    "    print (\"salam \"+haroun)"
   ]
  },
  {
   "cell_type": "code",
   "execution_count": null,
   "id": "fc8f2838",
   "metadata": {},
   "outputs": [],
   "source": []
  }
 ],
 "metadata": {
  "kernelspec": {
   "display_name": "Python 3 (ipykernel)",
   "language": "python",
   "name": "python3"
  },
  "language_info": {
   "codemirror_mode": {
    "name": "ipython",
    "version": 3
   },
   "file_extension": ".py",
   "mimetype": "text/x-python",
   "name": "python",
   "nbconvert_exporter": "python",
   "pygments_lexer": "ipython3",
   "version": "3.11.5"
  }
 },
 "nbformat": 4,
 "nbformat_minor": 5
}
