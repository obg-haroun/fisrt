{
 "cells": [
  {
   "cell_type": "code",
   "execution_count": 14,
   "id": "68ef95fc",
   "metadata": {},
   "outputs": [],
   "source": [
    "L = [2,3,6]"
   ]
  },
  {
   "cell_type": "code",
   "execution_count": 15,
   "id": "6652dee7",
   "metadata": {},
   "outputs": [],
   "source": [
    "p = 1\n",
    "for e in L :\n",
    "    p=p*e"
   ]
  },
  {
   "cell_type": "code",
   "execution_count": 17,
   "id": "fea6e265",
   "metadata": {},
   "outputs": [
    {
     "data": {
      "text/plain": [
       "36"
      ]
     },
     "execution_count": 17,
     "metadata": {},
     "output_type": "execute_result"
    }
   ],
   "source": [
    "p"
   ]
  },
  {
   "cell_type": "code",
   "execution_count": 44,
   "id": "3d20f76a",
   "metadata": {},
   "outputs": [
    {
     "data": {
      "text/plain": [
       "[(2, 1), (1, 2), (2, 3), (4, 4), (2, 5)]"
      ]
     },
     "execution_count": 44,
     "metadata": {},
     "output_type": "execute_result"
    }
   ],
   "source": [
    "L = [(2, 5), (1, 2), (4, 4), (2, 3), (2, 1)]\n",
    "\n",
    "f = lambda t:t[-1]\n",
    "L.sort(key=f)\n",
    "\n",
    "L"
   ]
  },
  {
   "cell_type": "code",
   "execution_count": 57,
   "id": "f63393fd",
   "metadata": {},
   "outputs": [],
   "source": [
    "d1 = {'a': 100, 'b': 200, 'c': 300}\n",
    "d2 = {'a': 300, 'b': 200, 'd': 400}\n",
    "dsomme = {}\n",
    "\n",
    "keys = d1.keys()|d2.keys()\n",
    "for k in keys:\n",
    "    dsomme[k] = d1.get(k,0) + d2.get(k,0)"
   ]
  },
  {
   "cell_type": "code",
   "execution_count": 58,
   "id": "57f4283a",
   "metadata": {},
   "outputs": [
    {
     "data": {
      "text/plain": [
       "{'c': 300, 'd': 400, 'a': 400, 'b': 400}"
      ]
     },
     "execution_count": 58,
     "metadata": {},
     "output_type": "execute_result"
    }
   ],
   "source": [
    "dsomme"
   ]
  },
  {
   "cell_type": "code",
   "execution_count": 62,
   "id": "ffffecdc",
   "metadata": {
    "scrolled": true
   },
   "outputs": [
    {
     "data": {
      "text/plain": [
       "{1: 1, 2: 4, 3: 9, 4: 16, 5: 25, 6: 36, 7: 49, 8: 64}"
      ]
     },
     "execution_count": 62,
     "metadata": {},
     "output_type": "execute_result"
    }
   ],
   "source": [
    "{1:1,\n",
    " 2:4,\n",
    " 3:9,\n",
    " 4:16,\n",
    " 5:25,\n",
    " 6:36,\n",
    " 7:49,\n",
    " 8:64\n",
    "}"
   ]
  },
  {
   "cell_type": "code",
   "execution_count": 83,
   "id": "934f90cb",
   "metadata": {},
   "outputs": [],
   "source": [
    "d = {}\n",
    "for e in range(1,9):\n",
    "    d[e] = e*e"
   ]
  },
  {
   "cell_type": "code",
   "execution_count": 84,
   "id": "6158a05d",
   "metadata": {},
   "outputs": [
    {
     "data": {
      "text/plain": [
       "{1: 1, 2: 4, 3: 9, 4: 16, 5: 25, 6: 36, 7: 49, 8: 64}"
      ]
     },
     "execution_count": 84,
     "metadata": {},
     "output_type": "execute_result"
    }
   ],
   "source": [
    "d"
   ]
  },
  {
   "cell_type": "code",
   "execution_count": 85,
   "id": "6c41e8a7",
   "metadata": {},
   "outputs": [],
   "source": [
    "M = [\n",
    "    ('item','12,50')\n",
    "]"
   ]
  },
  {
   "cell_type": "code",
   "execution_count": 89,
   "id": "e50392b7",
   "metadata": {},
   "outputs": [],
   "source": [
    "L.sort(\n",
    "key=lambda t:t[1],\n",
    "reverse = True\n",
    ")"
   ]
  },
  {
   "cell_type": "code",
   "execution_count": 90,
   "id": "0f85f207",
   "metadata": {},
   "outputs": [
    {
     "data": {
      "text/plain": [
       "[('item', '12,50')]"
      ]
     },
     "execution_count": 90,
     "metadata": {},
     "output_type": "execute_result"
    }
   ],
   "source": [
    "M"
   ]
  },
  {
   "cell_type": "code",
   "execution_count": 91,
   "id": "9145a61a",
   "metadata": {},
   "outputs": [
    {
     "name": "stdout",
     "output_type": "stream",
     "text": [
      "0\n",
      "1\n",
      "2\n",
      "3\n",
      "4\n"
     ]
    }
   ],
   "source": [
    "s = {0,1,2,3,4}\n",
    "for i in s:\n",
    "    print(i)"
   ]
  },
  {
   "cell_type": "code",
   "execution_count": null,
   "id": "a42c63e0",
   "metadata": {},
   "outputs": [],
   "source": []
  }
 ],
 "metadata": {
  "kernelspec": {
   "display_name": "Python 3 (ipykernel)",
   "language": "python",
   "name": "python3"
  },
  "language_info": {
   "codemirror_mode": {
    "name": "ipython",
    "version": 3
   },
   "file_extension": ".py",
   "mimetype": "text/x-python",
   "name": "python",
   "nbconvert_exporter": "python",
   "pygments_lexer": "ipython3",
   "version": "3.11.5"
  }
 },
 "nbformat": 4,
 "nbformat_minor": 5
}
